{
 "cells": [
  {
   "cell_type": "code",
   "execution_count": 2,
   "id": "5b230211",
   "metadata": {},
   "outputs": [
    {
     "data": {
      "text/plain": [
       "'\\n*   - Expression\\n\"Hello\" - Value\\n-87.8  - Value\\n- Expression\\n/ expression\\n+ Expression\\n6 value\\n\\n\\n2.\\nWhat is the difference between string and variable?\\nVariable - is like name assigned x = 10\\nString - is like \"\" we can write \"Vishal\" OR ANYTHING\\n\\n'"
      ]
     },
     "execution_count": 2,
     "metadata": {},
     "output_type": "execute_result"
    }
   ],
   "source": [
    "\"\"\"\n",
    "*   - Expression\n",
    "\"Hello\" - Value\n",
    "-87.8  - Value\n",
    "- Expression\n",
    "/ expression\n",
    "+ Expression\n",
    "6 value\n",
    "\n",
    "\n",
    "2.\n",
    "What is the difference between string and variable?\n",
    "Variable - is like name assigned x = 10\n",
    "String - is like \"\" we can write \"Vishal\" OR ANYTHING\n",
    "\n",
    "3.Describe three different data types.\n",
    "\n",
    "Integers - whole numbers don't contain fractional part\n",
    "-1,0,2,3,4...\n",
    "float - which has fractional expression\n",
    "like - 3.12, 4.12\n",
    "String- can be single string or double string \n",
    "'Vishal' or \"Vishal\"\n",
    "\n",
    "\n",
    "What is an expression made up of? What do all expressions do?\n",
    "\n",
    "Expression can be values like 1, \"heloo\", operator like arithmatic like - + - / * & %, TRUE OR FALSE, LOGICAL AND NOT OR\n",
    "Expression makes help to run the program to produce desired output\n",
    "\n",
    "6. After running the following code, what does the variable bacon contain?\n",
    "bacon = 22\n",
    "bacon + 1\n",
    "Output is 23\n",
    "\n",
    "What should the values of the following two terms be?\n",
    "'spam' + 'spamspam'\n",
    "spam * 3\n",
    "\n",
    "NameError: name 'spam' is not defined\n",
    "\n",
    "Why is eggs a valid variable name while 100 is invalid?\n",
    "We cannot start a code with numbers \n",
    "like \n",
    "we can write \n",
    "eggs\n",
    "but we cannot write\n",
    "100eggs\n",
    "\n",
    "What three functions can be used to get the integer, floating-point number, or string\n",
    "version of a value?\n",
    "int()\n",
    "float()\n",
    "str()\n",
    "\n",
    "\n",
    "Why does this expression cause an error? How can you fix it?\n",
    "'i have eaten' +99+ 'burritos.'\n",
    "\n",
    "Error - can only concatenate str (not \"int\") to str\n",
    "\n",
    "Coding\n",
    "1 case - I have assigned a name and \"99\" applied str to it.\n",
    "a = 'i have eaten' + \"99\" + 'burritos.'\n",
    "print(a)\n",
    "\n",
    "2 case -\n",
    "'i have eaten' + \"99\" + 'burritos.'\n",
    "'i have eaten99burritos.'\n",
    "\n",
    "\"\"\""
   ]
  },
  {
   "cell_type": "code",
   "execution_count": 4,
   "id": "63f14ca1",
   "metadata": {},
   "outputs": [
    {
     "data": {
      "text/plain": [
       "23"
      ]
     },
     "execution_count": 4,
     "metadata": {},
     "output_type": "execute_result"
    }
   ],
   "source": [
    "bacon = 22\n",
    "bacon + 1"
   ]
  },
  {
   "cell_type": "code",
   "execution_count": 5,
   "id": "0a396b99",
   "metadata": {},
   "outputs": [
    {
     "ename": "NameError",
     "evalue": "name 'spam' is not defined",
     "output_type": "error",
     "traceback": [
      "\u001b[1;31m---------------------------------------------------------------------------\u001b[0m",
      "\u001b[1;31mNameError\u001b[0m                                 Traceback (most recent call last)",
      "Cell \u001b[1;32mIn[5], line 2\u001b[0m\n\u001b[0;32m      1\u001b[0m \u001b[38;5;124m'\u001b[39m\u001b[38;5;124mspam\u001b[39m\u001b[38;5;124m'\u001b[39m \u001b[38;5;241m+\u001b[39m \u001b[38;5;124m'\u001b[39m\u001b[38;5;124mspamspam\u001b[39m\u001b[38;5;124m'\u001b[39m\n\u001b[1;32m----> 2\u001b[0m \u001b[43mspam\u001b[49m \u001b[38;5;241m*\u001b[39m \u001b[38;5;241m3\u001b[39m\n",
      "\u001b[1;31mNameError\u001b[0m: name 'spam' is not defined"
     ]
    }
   ],
   "source": [
    "'spam' + 'spamspam'\n",
    "spam * 3"
   ]
  },
  {
   "cell_type": "code",
   "execution_count": 9,
   "id": "769a9646",
   "metadata": {},
   "outputs": [
    {
     "data": {
      "text/plain": [
       "'i have eaten99burritos.'"
      ]
     },
     "execution_count": 9,
     "metadata": {},
     "output_type": "execute_result"
    }
   ],
   "source": [
    "'i have eaten' + \"99\" + 'burritos.'"
   ]
  },
  {
   "cell_type": "code",
   "execution_count": null,
   "id": "53da9b86",
   "metadata": {},
   "outputs": [],
   "source": []
  },
  {
   "cell_type": "code",
   "execution_count": null,
   "id": "5794955f",
   "metadata": {},
   "outputs": [],
   "source": []
  },
  {
   "cell_type": "code",
   "execution_count": null,
   "id": "1f086fac",
   "metadata": {},
   "outputs": [],
   "source": []
  },
  {
   "cell_type": "code",
   "execution_count": null,
   "id": "56bfe43e",
   "metadata": {},
   "outputs": [],
   "source": []
  },
  {
   "cell_type": "code",
   "execution_count": null,
   "id": "f810dbf3",
   "metadata": {},
   "outputs": [],
   "source": []
  },
  {
   "cell_type": "code",
   "execution_count": null,
   "id": "bd5aeb3a",
   "metadata": {},
   "outputs": [],
   "source": []
  },
  {
   "cell_type": "code",
   "execution_count": null,
   "id": "43cb4c26",
   "metadata": {},
   "outputs": [],
   "source": []
  }
 ],
 "metadata": {
  "kernelspec": {
   "display_name": "Python 3 (ipykernel)",
   "language": "python",
   "name": "python3"
  },
  "language_info": {
   "codemirror_mode": {
    "name": "ipython",
    "version": 3
   },
   "file_extension": ".py",
   "mimetype": "text/x-python",
   "name": "python",
   "nbconvert_exporter": "python",
   "pygments_lexer": "ipython3",
   "version": "3.10.9"
  }
 },
 "nbformat": 4,
 "nbformat_minor": 5
}
